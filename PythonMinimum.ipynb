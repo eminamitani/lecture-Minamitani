{
 "cells": [
  {
   "cell_type": "markdown",
   "metadata": {},
   "source": [
    "# python 文法ミニマム\n",
    "\n",
    "ここではごくごく最低限のpython文法を紹介します。もっと詳しくは書籍やWebサイトを確認してください。\n",
    "数年前に自分が始めた頃は「確かな力が身につくPython「超」入門」などがわかりやすかったです。困ったら大体ググれば親切な人があれこれ書いてくれていますが、pythonのバージョンやライブラリのバージョンに依存する場合があるので、特にライブラリについては公式ドキュメントを見るのが一番早いこともあります。\n",
    "\n",
    "## 最初の注意事項\n",
    "pythonはインデントでコードブロックを認識します。不用意な空白は入れないように\n",
    "\n",
    "## 算術演算子の一覧\n",
    "\n",
    " 演算　| 記号 \n",
    " --- | ---\n",
    " 加算 | +  \n",
    " 減算  | -  \n",
    " 乗算  | *  \n",
    " 除算  | /  \n",
    " 剰余  | %  \n",
    " べき乗 | ** \n",
    "\n",
    "## 変数の型\n",
    "プログラムの中で扱うデータはいくつかの種類に分類されます。これをデータ型といいます。\n",
    "\n",
    "データを代入する先である変数も、同じように分類されます。\n",
    "\n",
    "Pythonは動的型付け言語といって、変数にデータを代入する時にどのような型か判断して変数のデータ型も決めています。変数のデータ型は慣例的に以下のような名前で呼ばれています。\n",
    "\n",
    "\n",
    "- 文字型(String)：読んで字のごとく、文字列を扱う型です。別の型の変数を文字型に変更するときはstr()という関数を使います。\n",
    "- 数値型：数字を扱う型です、int（整数）, float（単精度浮動小数）, double（倍精度浮動小数）があります。\n",
    "- 論理型：真であるか偽であるかに対応する、TrueかFalseかの値をとります\n",
    "- リスト型：複数のデータのまとまりを扱うことが出来ます\n",
    "\n",
    "## 今回の内容で使うもの\n",
    "\n",
    "- 繰り返し\n",
    "- 条件分岐\n",
    "- 関数の定義\n",
    "- グラフ描画\n",
    "- numpyを使った線形代数\n",
    "\n",
    "代表的なパターンを紹介します。\n",
    "パターンの構造をかいてあるところで\n",
    "(tab)はタブか空白4つでインデントすることを表しています"
   ]
  },
  {
   "cell_type": "markdown",
   "metadata": {},
   "source": [
    "## 繰り返し  \n",
    "---\n",
    "for i in range(回数): \b<br>\n",
    "(tab) 繰り返す手続き\n"
   ]
  },
  {
   "cell_type": "code",
   "execution_count": 1,
   "metadata": {
    "tags": []
   },
   "outputs": [
    {
     "name": "stdout",
     "output_type": "stream",
     "text": [
      "Hello!\n",
      "Hello!\n",
      "Hello!\n",
      "Hello!\n",
      "Hello!\n"
     ]
    }
   ],
   "source": [
    "\n",
    "for i in range (5):\n",
    "    print('Hello!')\n"
   ]
  },
  {
   "cell_type": "markdown",
   "metadata": {},
   "source": [
    "`range(n)` は 0~n-1を要素に持つ配列\\[0,1,2,3...n-1\\]を生成してます。この要素１つ１つにアクセスする形式になっています。なので、配列そのもので繰り返しを定義することもできます。"
   ]
  },
  {
   "cell_type": "code",
   "execution_count": 2,
   "metadata": {
    "tags": []
   },
   "outputs": [
    {
     "name": "stdout",
     "output_type": "stream",
     "text": [
      "dog\n",
      "cat\n",
      "fish\n"
     ]
    }
   ],
   "source": [
    "x=[\"dog\",\"cat\",\"fish\"]\n",
    "for i in x:\n",
    "    print(i)\n"
   ]
  },
  {
   "cell_type": "markdown",
   "metadata": {},
   "source": [
    "配列で繰り返しループを回すとき、何回目かの情報も一緒にほしいときは `enumerate` を使います"
   ]
  },
  {
   "cell_type": "code",
   "execution_count": 3,
   "metadata": {
    "tags": []
   },
   "outputs": [
    {
     "name": "stdout",
     "output_type": "stream",
     "text": [
      "0,dog\n",
      "1,cat\n",
      "2,fish\n"
     ]
    }
   ],
   "source": [
    "x=[\"dog\",\"cat\",\"fish\"]\n",
    "for i, name in enumerate(x):\n",
    "    print(str(i)+\",\"+name)"
   ]
  },
  {
   "cell_type": "markdown",
   "metadata": {},
   "source": [
    "## 条件分岐\n",
    "---\n",
    " if 条件式１ : <br>\n",
    " (tab) 条件式１が真の場合に行うこと <br>\n",
    " elif 偽の場合のさらなる条件式2: <br>\n",
    " (tab) 条件式2が真の場合に行うこと <br>\n",
    " else: <br>\n",
    " (tab) 条件式１も２も偽の場合に行うこと <br>"
   ]
  },
  {
   "cell_type": "code",
   "execution_count": 4,
   "metadata": {
    "tags": []
   },
   "outputs": [
    {
     "name": "stdout",
     "output_type": "stream",
     "text": [
      "1FizzBuzz\n",
      "2FizzBuzz\n",
      "3Fizz\n",
      "4FizzBuzz\n",
      "5Buzz\n",
      "6Fizz\n",
      "7FizzBuzz\n",
      "8FizzBuzz\n",
      "9Fizz\n"
     ]
    }
   ],
   "source": [
    "for i in range(1,10):\n",
    "    if i%3==0:\n",
    "        print(str(i)+\"Fizz\")\n",
    "    elif i%5==0:\n",
    "        print(str(i)+\"Buzz\")\n",
    "    else:\n",
    "        print(str(i)+\"FizzBuzz\")"
   ]
  },
  {
   "cell_type": "markdown",
   "metadata": {},
   "source": [
    "### 条件分岐で使う論理演算子まとめ\n",
    "表記 | 意味\n",
    "--- | ---\n",
    " if a==b: | aとbが等しい   \n",
    " if a!=b: | aとbが等しくない \n",
    " if a>b:  | aがbより大きい  \n",
    " if a<b:  | aがbより小さい  \n",
    " if a>=b: | aがb以上     \n",
    " if a<=b: | aがb以下     \n",
    " if xxx and yyy: | xxxもyyyも真であれば真(xxxは例えばx>4とかの条件式) \n",
    " if xxx or yyy:  | xxxかyyyのどちらかが真であれば真  \n",
    "\n",
    "\n"
   ]
  },
  {
   "cell_type": "markdown",
   "metadata": {},
   "source": [
    "## 関数の定義\n",
    "一連の作業をまとめておく仕組み\n",
    "\n",
    "---\n",
    "def 関数名(引数): <br>\n",
    "(tab) 手続き　<br>\n",
    "(tab) return 戻り値　<br>"
   ]
  },
  {
   "cell_type": "code",
   "execution_count": 5,
   "metadata": {
    "tags": []
   },
   "outputs": [
    {
     "name": "stdout",
     "output_type": "stream",
     "text": [
      "4\n"
     ]
    }
   ],
   "source": [
    "\n",
    "def func (v):\n",
    "    i=v*2\n",
    "    return i\n",
    "\n",
    "print(func(2))"
   ]
  },
  {
   "cell_type": "markdown",
   "metadata": {},
   "source": [
    "## グラフの描画\n",
    "`matplotlib`を使います。ライブラリを使うときには冒頭で`import`文でどのライブラリを使うか指定します。ライブラリの名称を毎回書くのは面倒なので、`as`をつかって短い名称を代わりに使うようにすることもできます。`matplotlib`で描画するデータはリストの形式にして扱います\n"
   ]
  },
  {
   "cell_type": "markdown",
   "metadata": {},
   "source": [
    "### 通常のグラフ"
   ]
  },
  {
   "cell_type": "code",
   "execution_count": 6,
   "metadata": {},
   "outputs": [
    {
     "data": {
      "image/png": "[encoded data removed]",
      "text/plain": [
       "<Figure size 432x288 with 1 Axes>"
      ]
     },
     "metadata": {
      "needs_background": "light"
     },
     "output_type": "display_data"
    }
   ],
   "source": [
    "import matplotlib.pyplot as plt\n",
    "y=[1.0,1.3,1.4,1.8,2.2,2.9]\n",
    "x=[1,2,3,4,5,6]\n",
    "\n",
    "plt.plot(x,y)\n",
    "plt.show()"
   ]
  },
  {
   "cell_type": "markdown",
   "metadata": {},
   "source": [
    "### 散布図"
   ]
  },
  {
   "cell_type": "code",
   "execution_count": 7,
   "metadata": {},
   "outputs": [
    {
     "data": {
      "image/png": "[encoded data removed]",
      "text/plain": [
       "<Figure size 432x288 with 1 Axes>"
      ]
     },
     "metadata": {
      "needs_background": "light"
     },
     "output_type": "display_data"
    }
   ],
   "source": [
    "import matplotlib.pyplot as plt\n",
    "y=[1.0,1.3,1.4,1.8,2.2,2.9]\n",
    "x=[1,2,3,4,5,6]\n",
    "\n",
    "plt.scatter(x,y)\n",
    "plt.show()"
   ]
  },
  {
   "cell_type": "markdown",
   "metadata": {},
   "source": [
    "###  点と線両方書くとき"
   ]
  },
  {
   "cell_type": "code",
   "execution_count": 8,
   "metadata": {},
   "outputs": [
    {
     "data": {
      "image/png": "[encoded data removed]",
      "text/plain": [
       "<Figure size 432x288 with 1 Axes>"
      ]
     },
     "metadata": {
      "needs_background": "light"
     },
     "output_type": "display_data"
    }
   ],
   "source": [
    "import matplotlib.pyplot as plt\n",
    "y=[1.0,1.3,1.4,1.8,2.2,2.9]\n",
    "x=[1,2,3,4,5,6]\n",
    "\n",
    "plt.plot(x,y, marker='o')\n",
    "plt.show()"
   ]
  },
  {
   "cell_type": "markdown",
   "metadata": {},
   "source": [
    "## numpyの使い方\n",
    "numpyは数値計算、とくにベクトルや行列の演算のライブラリが充実しています。行列演算の例を書いておきます。"
   ]
  },
  {
   "cell_type": "code",
   "execution_count": 9,
   "metadata": {
    "tags": []
   },
   "outputs": [
    {
     "name": "stdout",
     "output_type": "stream",
     "text": [
      "[ 1.    1.45  1.9   2.35  2.8   3.25  3.7   4.15  4.6   5.05  5.5   5.95\n",
      "  6.4   6.85  7.3   7.75  8.2   8.65  9.1   9.55 10.  ]\n",
      "input matrix\n",
      "[[1. 3.]\n",
      " [4. 6.]]\n",
      "transpose\n",
      "[[1. 4.]\n",
      " [3. 6.]]\n",
      "[-0.77200187  7.77200187]\n"
     ]
    }
   ],
   "source": [
    "import numpy as np\n",
    "#sampling 21 points between 1~10\n",
    "samples=np.linspace(1,10,num=21)\n",
    "print(samples)\n",
    "\n",
    "#define 2x2 matrix \n",
    "a=np.array([[1.0,3.0],[4.0,6.0]])\n",
    "print(\"input matrix\")\n",
    "print(a)\n",
    "#transpose\n",
    "print(\"transpose\")\n",
    "print(np.transpose(a))\n",
    "\n",
    "#get eigenvalue and eigenvector\n",
    "#l: eigenvalue\n",
    "#v: eigenvector\n",
    "l,v =np.linalg.eig(a)\n",
    "print(l)\n"
   ]
  },
  {
   "cell_type": "markdown",
   "metadata": {},
   "source": [
    "## for文を代用するワンライナー\n",
    "for文は何をしているかわかりやすいですが、処理が重いので、なるべくnumpyのarrayで行列として処理したり、せめてワンライナーで書いたりすると良いです。\n"
   ]
  },
  {
   "cell_type": "code",
   "execution_count": 10,
   "metadata": {
    "tags": []
   },
   "outputs": [
    {
     "name": "stdout",
     "output_type": "stream",
     "text": [
      "[0, 2, 4, 6, 8, 10, 12, 14, 16, 18]\n"
     ]
    }
   ],
   "source": [
    "x=[i*2 for i in range(10)]\n",
    "print(x)"
   ]
  },
  {
   "cell_type": "code",
   "execution_count": 11,
   "metadata": {
    "tags": []
   },
   "outputs": [
    {
     "name": "stdout",
     "output_type": "stream",
     "text": [
      "[1, 4, 7]\n"
     ]
    }
   ],
   "source": [
    "y=[i for i in range(10) if i%3==1]\n",
    "print(y)"
   ]
  }
 ],
 "metadata": {
  "interpreter": {
   "hash": "997f2ba4a1e1eede1fbbc445d4f7dff8b754747b4b23bcbe831949535561032e"
  },
  "kernelspec": {
   "display_name": "Python 3.7.6 64-bit ('3.7.6': pyenv)",
   "language": "python",
   "name": "python3"
  },
  "language_info": {
   "codemirror_mode": {
    "name": "ipython",
    "version": 3
   },
   "file_extension": ".py",
   "mimetype": "text/x-python",
   "name": "python",
   "nbconvert_exporter": "python",
   "pygments_lexer": "ipython3",
   "version": "3.8.0"
  },
  "orig_nbformat": 2
 },
 "nbformat": 4,
 "nbformat_minor": 2
}
