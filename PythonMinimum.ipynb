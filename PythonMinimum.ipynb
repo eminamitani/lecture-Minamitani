{
 "cells": [
  {
   "cell_type": "markdown",
   "metadata": {},
   "source": [
    "# python 文法ミニマム\n",
    "\n",
    "ここではごくごく最低限のpython文法を紹介します。もっと詳しくは書籍やWebサイトを確認してください。\n",
    "数年前に自分が始めた頃は「確かな力が身につくPython「超」入門」などがわかりやすかったですが、\n",
    "刊行がちょっと前なので少し情報が古くなっているかもしれません。\n",
    "\n",
    "## 最初の注意事項\n",
    "pythonはインデントでコードブロックを認識します。不用意な空白は入れないように\n",
    "\n",
    "## 算術演算子の一覧\n",
    "| 演算　| 記号 |\n",
    "| --- 　| ---|\n",
    "| 加算  | +  |\n",
    "| 減算  | -  |\n",
    "| 乗算  | *  |\n",
    "| 除算  | /  |\n",
    "| 剰余  | %  |\n",
    "| べき乗 | ** |\n",
    "\n",
    "## 変数の型\n",
    "プログラムの中で扱うデータはいくつかの種類に分類されます。これをデータ型といいます。\n",
    "\n",
    "データを代入する先である変数も、同じように分類されます。\n",
    "\n",
    "Pythonは動的型付け言語といって、変数にデータを代入する時にどのような型か判断して変数のデータ型も決めています。変数のデータ型は慣例的に以下のような名前で呼ばれています。\n",
    "\n",
    "\n",
    "- 文字型(String)：読んで字のごとく、文字列を扱う型です。別の型の変数を文字型に変更するときはstr()という関数を使います。\n",
    "- 数値型：数字を扱う型です、int（整数）, float（単精度浮動小数）, double（倍精度浮動小数）があります。\n",
    "- 論理型：真であるか偽であるかに対応する、TrueかFalseかの値をとります\n",
    "- リスト型：複数のデータのまとまりを扱うことが出来ます\n",
    "\n",
    "## 今回の内容で使うもの\n",
    "\n",
    "- 繰り返し\n",
    "- 条件分岐\n",
    "- 関数の定義\n",
    "- グラフ描画\n",
    "- numpyを使った線形代数\n",
    "\n",
    "代表的なパターンを紹介します。\n",
    "パターンの構造をかいてあるところで\n",
    "(tab)はタブか空白4つでインデントすることを表しています"
   ]
  },
  {
   "cell_type": "markdown",
   "metadata": {},
   "source": [
    "## 繰り返し  \n",
    "for i in range(回数): \b<br>\n",
    "(tab) 繰り返す手続き"
   ]
  },
  {
   "cell_type": "code",
   "execution_count": 1,
   "metadata": {
    "tags": []
   },
   "outputs": [
    {
     "output_type": "stream",
     "name": "stdout",
     "text": "Hello!\nHello!\nHello!\nHello!\nHello!\n"
    }
   ],
   "source": [
    "\n",
    "for i in range (5):\n",
    "    print('Hello!')\n"
   ]
  },
  {
   "cell_type": "markdown",
   "metadata": {},
   "source": [
    "## 条件分岐\n",
    "\n",
    " if 条件式１ : <br>\n",
    " (tab) 条件式１が真の場合に行うこと <br>\n",
    " elif 偽の場合のさらなる条件式2: <br>\n",
    " (tab) 条件式2が真の場合に行うこと <br>\n",
    " else: <br>\n",
    " (tab) 条件式１も２も偽の場合に行うこと <br>"
   ]
  },
  {
   "cell_type": "code",
   "execution_count": null,
   "metadata": {},
   "outputs": [],
   "source": []
  },
  {
   "cell_type": "markdown",
   "metadata": {},
   "source": [
    "## 関数の定義\n",
    "一連の作業をまとめておく仕組み\n",
    "\n",
    "def 関数名(引数): <br>\n",
    "    手続き　<br>\n",
    "    return 戻り値　<br>"
   ]
  }
 ],
 "metadata": {
  "language_info": {
   "codemirror_mode": {
    "name": "ipython",
    "version": 3
   },
   "file_extension": ".py",
   "mimetype": "text/x-python",
   "name": "python",
   "nbconvert_exporter": "python",
   "pygments_lexer": "ipython3",
   "version": "3.7.6-final"
  },
  "orig_nbformat": 2,
  "kernelspec": {
   "name": "python37664bit376pyenv2e30eb230926406a9b2b15bb437c555a",
   "display_name": "Python 3.7.6 64-bit ('3.7.6': pyenv)"
  }
 },
 "nbformat": 4,
 "nbformat_minor": 2
}