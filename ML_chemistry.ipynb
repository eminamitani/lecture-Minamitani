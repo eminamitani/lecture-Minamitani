{
 "cells": [
  {
   "cell_type": "markdown",
   "metadata": {},
   "source": [
    "# 化学・物理分野と機械学習"
   ]
  },
  {
   "cell_type": "markdown",
   "metadata": {},
   "source": [
    "化学の分野でも機械学習を使うことはどんどん盛んになっています。ケモインフォマティクスやマテリアルインフォマティクスという言葉を聞いた人もいるでしょう。分子や物質に対して、先程のボストンデータセットのように、性質を決めそうな因子をまとめたデータを作る→そのデータを元に性能を予測して、望ましい分子や物質を探そうといったことが行われています。"
   ]
  },
  {
   "cell_type": "markdown",
   "metadata": {},
   "source": [
    "The use of machine learning is becoming more and more popular in the field of chemistry. Some of you may have heard of the terms \"chemoinformatics\" or \"material informatics. Like the Boston Dataset mentioned earlier, we are trying to find desirable molecules and materials by creating data that summarizes factors that might determine their properties, and then predicting their performance based on that data."
   ]
  },
  {
   "cell_type": "markdown",
   "metadata": {},
   "source": [
    "私は物理系が専門なので、化学側はあまり詳しくないのですが、ケモインフォマティクス分野での代表的なデータセットが[QM9](https://www.nature.com/articles/sdata201422),ケモインフォマティクス用のデータ処理一式のライブラリが[RDKit](https://www.rdkit.org/)のようですね。"
   ]
  },
  {
   "cell_type": "markdown",
   "metadata": {},
   "source": [
    "I specialize in physics, so I am not very familiar with the chemistry side, but it seems that a typical dataset in the field of chemoinformatics is [QM9](https://www.nature.com/articles/sdata201422) and a complete set of data processing for chemoinformatics It seems that [RDKit](https://www.rdkit.org/) is a library for a complete set of data processing for chemoinformatics."
   ]
  },
  {
   "cell_type": "markdown",
   "metadata": {},
   "source": [
    "RDKitを使って分子の情報を機械学習モデルにつかえるデータに変換する方法などは、この資料が非常に参考になりそうです。\n",
    "https://www.kaggle.com/code/vladislavkisin/tutorial-ml-in-chemistry-research-rdkit-mol2vec/notebook"
   ]
  },
  {
   "cell_type": "markdown",
   "metadata": {},
   "source": [
    "データセットや深層学習モデル一式が揃ったライブラリとしては`Deepchem` https://github.com/deepchem/deepchem があります。これを用いると、さまざまなデータセットを取り込んで、SMILESという分子構造の表現形式から、機械学習モデルに使えるデータに変換する一連の作業を手軽にすすめることができます。"
   ]
  },
  {
   "cell_type": "markdown",
   "metadata": {},
   "source": [
    "A library with a complete set of datasets and deep learning models is available at `Deepchem` https://github.com/deepchem/deepchem. Using this library, you can easily take various datasets and convert them from SMILES, a representation of molecular structures, to data that can be used in machine learning models."
   ]
  },
  {
   "cell_type": "markdown",
   "metadata": {},
   "source": [
    "すべてDeepChemを使うチュートリアルは　https://github.com/deepchem/deepchem/blob/master/examples/tutorials/Introduction_to_Gaussian_Processes.ipynb　\n",
    "にありますが、何をやっているかStep by Stepで見るために少し直接的なことを試してみましょう。"
   ]
  },
  {
   "cell_type": "code",
   "execution_count": 27,
   "metadata": {},
   "outputs": [],
   "source": [
    "import numpy as np\n",
    "np.random.seed(123)\n",
    "import tensorflow as tf\n",
    "tf.random.set_seed(123)\n",
    "import deepchem as dc\n",
    "\n",
    "import numpy as np\n",
    "import matplotlib.pyplot as plt\n"
   ]
  },
  {
   "cell_type": "markdown",
   "metadata": {},
   "source": [
    "今回はdeepchemのデータセットに含まれているBACEデータセットを使ってみようと思います。これはβ-セクレターゼ1という酵素の阻害活性を持つ分子のデータセットで、1513個の分子の情報が含まれます。"
   ]
  },
  {
   "cell_type": "markdown",
   "metadata": {},
   "source": [
    "I will be using the BACE data set included in the deepchem data set. This is a dataset of molecules with inhibitory activity of the enzyme β-secretase 1 and contains information on 1513 molecules."
   ]
  },
  {
   "cell_type": "markdown",
   "metadata": {},
   "source": [
    "分子の特徴をExtended Connectivity Fingerprint(ECFP)と呼ばれる方法で記述します。これは原子間の距離の情報を使って、近傍の情報を近くから遠くへと順々に取り込んだ結果をベクトルとして表現しているような記述子です。"
   ]
  },
  {
   "cell_type": "markdown",
   "metadata": {},
   "source": [
    "Molecular features are described by a method called Extended Connectivity Fingerprint (ECFP). This is a descriptor that uses information about the distance between atoms to represent the result as a vector, which is the result of sequentially taking information from near to far in the neighborhood."
   ]
  },
  {
   "cell_type": "code",
   "execution_count": 28,
   "metadata": {},
   "outputs": [],
   "source": [
    "tasks, datasets, transformers = dc.molnet.load_bace_regression(featurizer='ecfp', splitter='random')\n",
    "train_dataset, valid_dataset, test_dataset = datasets"
   ]
  },
  {
   "cell_type": "markdown",
   "metadata": {},
   "source": [
    "データとして持っているのは薬理活性です"
   ]
  },
  {
   "cell_type": "markdown",
   "metadata": {},
   "source": [
    "What we have as data is pharmacological activity."
   ]
  },
  {
   "cell_type": "code",
   "execution_count": 29,
   "metadata": {},
   "outputs": [
    {
     "data": {
      "text/plain": [
       "['pIC50']"
      ]
     },
     "execution_count": 29,
     "metadata": {},
     "output_type": "execute_result"
    }
   ],
   "source": [
    "tasks"
   ]
  },
  {
   "cell_type": "markdown",
   "metadata": {},
   "source": [
    "処理して出てくるdatasetには学習データ、検証データ、テストデータのブロックがあります"
   ]
  },
  {
   "cell_type": "markdown",
   "metadata": {},
   "source": [
    "The dataset that comes out of the process contains blocks of training data, validation data, and test data"
   ]
  },
  {
   "cell_type": "code",
   "execution_count": 30,
   "metadata": {},
   "outputs": [
    {
     "data": {
      "text/plain": [
       "<DiskDataset X.shape: (1210, 1024), y.shape: (1210, 1), w.shape: (1210, 1), task_names: ['pIC50']>"
      ]
     },
     "execution_count": 30,
     "metadata": {},
     "output_type": "execute_result"
    }
   ],
   "source": [
    "train_dataset"
   ]
  },
  {
   "cell_type": "code",
   "execution_count": 31,
   "metadata": {},
   "outputs": [
    {
     "data": {
      "text/plain": [
       "<DiskDataset X.shape: (151, 1024), y.shape: (151, 1), w.shape: (151, 1), ids: ['FC(F)Oc1ccc(cc1)[C@@]1(N=C(N)N(C)C1=O)c1cc(ccc1)\\\\C=C\\\\CCCO'\n",
       " 'Fc1cc(NC[C@@H](O)[C@@H](NC(=O)C=2[C@H](CCC)C(C(=O)C)=C(N(CC(OC(C)C)=O)C=2C)C)Cc2ccccc2)ccc1'\n",
       " 'O=C1c2c(cc(cc2)-c2cncnc2)C2(N=C(N)N(C)C2=O)CC1(C)C' ...\n",
       " 'O=C(NCc1ccccc1)C(Cc1cc2cc(ccc2nc1N)-c1ccccc1C)C'\n",
       " 'Clc1ccc(nc1)C(=O)Nc1cc(C2(N=C(N)COC2)C)c(F)cc1'\n",
       " 'FC(F)Oc1ccc(cc1)[C@@]1(N=C(N)N(C)C1=O)c1cc(ccc1)C#CC'], task_names: ['pIC50']>"
      ]
     },
     "execution_count": 31,
     "metadata": {},
     "output_type": "execute_result"
    }
   ],
   "source": [
    "valid_dataset"
   ]
  },
  {
   "cell_type": "markdown",
   "metadata": {},
   "source": [
    "'Clc1ccc(nc1)C(=O)Nc1cc(C2(N=C(N)COC2)C)c(F)cc1'　などがSMILESと呼ばれる原子構造の文字列による表現です。この情報から構造を復元してECFPを計算しています"
   ]
  },
  {
   "cell_type": "code",
   "execution_count": 32,
   "metadata": {},
   "outputs": [
    {
     "data": {
      "text/plain": [
       "<DiskDataset X.shape: (152, 1024), y.shape: (152, 1), w.shape: (152, 1), ids: ['Brc1cc(ccc1)CCC=1N=C(N)N(C)C(=O)C=1'\n",
       " 'S1(=O)(=O)CC(Cc2cc(Cc3cc(ccc3)C)c(O)cc2)C(O)C([NH2+]Cc2cc(ccc2)C(C)C)C1'\n",
       " 'Fc1cc(cc(F)c1)CC(NC(=O)C(N1CCC(CC(C)C)C1=O)C)C(O)C[NH2+]Cc1cc(OC)ccc1'\n",
       " ... 'O=C1N(C)C(=NC(=C1)C1CC1c1ccc(cc1)-c1cc(ccc1)CCC)N'\n",
       " 'Fc1cc(NC[C@@H](O)[C@@H](NC(=O)C2=CN(CC(OC(C)C)=O)C(C)=C(C(=O)C)[C@H]2C)Cc2ccccc2)ccc1'\n",
       " 'O=C1N(C)C(=NC(=C1)C1CC1c1ccc(cc1)-c1cc(ccc1)COC)N'], task_names: ['pIC50']>"
      ]
     },
     "execution_count": 32,
     "metadata": {},
     "output_type": "execute_result"
    }
   ],
   "source": [
    "test_dataset"
   ]
  },
  {
   "cell_type": "markdown",
   "metadata": {},
   "source": [
    "それぞれのxにはECFPの計算結果である1024次元のベクトルで記述子が収められており、ｙにはそれぞれの分子の薬理活性が入っています"
   ]
  },
  {
   "cell_type": "markdown",
   "metadata": {},
   "source": [
    "Each x contains the descriptor in a 1024-dimensional vector that is the result of the ECFP calculation, and y contains the pharmacological activity of each molecule"
   ]
  },
  {
   "cell_type": "markdown",
   "metadata": {},
   "source": [
    "データを読み込む段階で、正規化がされており、yをもともとの値に戻すためには、transformersと指定されている3番目のデータを使います"
   ]
  },
  {
   "cell_type": "markdown",
   "metadata": {},
   "source": [
    "The data is normalized at the loading stage, and to restore y to its original value, the third data specified as transformers is used"
   ]
  },
  {
   "cell_type": "code",
   "execution_count": 33,
   "metadata": {},
   "outputs": [
    {
     "data": {
      "text/plain": [
       "array([[6.251812 ],\n",
       "       [6.4814858],\n",
       "       [5.1428485],\n",
       "       ...,\n",
       "       [7.3979402],\n",
       "       [8.3979397],\n",
       "       [5.0506101]])"
      ]
     },
     "execution_count": 33,
     "metadata": {},
     "output_type": "execute_result"
    }
   ],
   "source": [
    "transformers[0].untransform(train_dataset.y)"
   ]
  },
  {
   "cell_type": "markdown",
   "metadata": {},
   "source": [
    "まずは線形モデルで試してみましょう"
   ]
  },
  {
   "cell_type": "markdown",
   "metadata": {},
   "source": [
    "Let's try linear regression"
   ]
  },
  {
   "cell_type": "code",
   "execution_count": 34,
   "metadata": {},
   "outputs": [
    {
     "data": {
      "text/plain": [
       "(0.9781446190499266, -12.259974433990878)"
      ]
     },
     "execution_count": 34,
     "metadata": {},
     "output_type": "execute_result"
    }
   ],
   "source": [
    "\n",
    "from sklearn.linear_model import LinearRegression\n",
    "model = LinearRegression()\n",
    "\n",
    "# Fit trained model\n",
    "model.fit(train_dataset.X,train_dataset.y)\n",
    "train_score=model.score(train_dataset.X,train_dataset.y)\n",
    "test_score=model.score(test_dataset.X,test_dataset.y)\n",
    "\n",
    "train_score, test_score\n"
   ]
  },
  {
   "cell_type": "markdown",
   "metadata": {},
   "source": [
    "線形モデルだと全然むりですね…"
   ]
  },
  {
   "cell_type": "markdown",
   "metadata": {},
   "source": [
    "Linear regression returns poor result."
   ]
  },
  {
   "cell_type": "markdown",
   "metadata": {},
   "source": [
    "カーネル関数というものを導入して表現力を上げているガウス過程回帰を試してみましょう"
   ]
  },
  {
   "cell_type": "markdown",
   "metadata": {},
   "source": [
    "Let's try Gaussian process regression, which introduces something called a kernel function to increase expressivity"
   ]
  },
  {
   "cell_type": "code",
   "execution_count": 35,
   "metadata": {},
   "outputs": [
    {
     "data": {
      "text/plain": [
       "GaussianProcessRegressor(alpha=4.989499481123432e-09,\n",
       "                         kernel=0.39**2 * RBF(length_scale=5.38) + WhiteKernel(noise_level=0.00163))"
      ]
     },
     "execution_count": 35,
     "metadata": {},
     "output_type": "execute_result"
    }
   ],
   "source": [
    "from sklearn.gaussian_process import GaussianProcessRegressor\n",
    "from sklearn.gaussian_process.kernels import RBF, WhiteKernel\n",
    "\n",
    "output_variance = 0.38974570882583015\n",
    "length_scale = 5.375387643239208\n",
    "noise_level = 0.0016265333497286342\n",
    "kernel = output_variance**2 * RBF(length_scale=length_scale, length_scale_bounds='fixed') + WhiteKernel(noise_level=noise_level, noise_level_bounds='fixed')\n",
    "alpha = 4.989499481123432e-09\n",
    "\n",
    "sklearn_gpr = GaussianProcessRegressor(kernel=kernel, alpha=alpha)\n",
    "sklearn_gpr.fit(train_dataset.X,train_dataset.y)"
   ]
  },
  {
   "cell_type": "code",
   "execution_count": 36,
   "metadata": {},
   "outputs": [
    {
     "data": {
      "text/plain": [
       "0.989346622940659"
      ]
     },
     "execution_count": 36,
     "metadata": {},
     "output_type": "execute_result"
    }
   ],
   "source": [
    "sklearn_gpr.score(train_dataset.X,train_dataset.y)"
   ]
  },
  {
   "cell_type": "code",
   "execution_count": 37,
   "metadata": {},
   "outputs": [
    {
     "data": {
      "text/plain": [
       "0.6850801198189562"
      ]
     },
     "execution_count": 37,
     "metadata": {},
     "output_type": "execute_result"
    }
   ],
   "source": [
    "sklearn_gpr.score(test_dataset.X,test_dataset.y)"
   ]
  },
  {
   "cell_type": "code",
   "execution_count": 38,
   "metadata": {},
   "outputs": [
    {
     "data": {
      "text/plain": [
       "<matplotlib.collections.PathCollection at 0x289551e80>"
      ]
     },
     "execution_count": 38,
     "metadata": {},
     "output_type": "execute_result"
    },
    {
     "data": {
      "image/png": "[encoded data removed]",
      "text/plain": [
       "<Figure size 432x288 with 1 Axes>"
      ]
     },
     "metadata": {
      "needs_background": "light"
     },
     "output_type": "display_data"
    }
   ],
   "source": [
    "y_pred=sklearn_gpr.predict(test_dataset.X)\n",
    "\n",
    "y_meas_test = transformers[0].untransform(test_dataset.y)\n",
    "y_pred_test=transformers[0].untransform(y_pred)\n",
    "\n",
    "plt.axes().set_aspect('equal')\n",
    "plt.scatter(y_meas_test,y_pred_test,c='blue')"
   ]
  },
  {
   "cell_type": "markdown",
   "metadata": {},
   "source": [
    "他のschikit-learnのモデルではどんな結果になるでしょうか？\n",
    "https://sites.google.com/g.chuo-u.ac.jp/spec-group/ml-challenges　\n",
    "などを参考に試してみましょう。"
   ]
  },
  {
   "cell_type": "markdown",
   "metadata": {},
   "source": [
    "他に有名なデータセットとしては溶解度についてのDelaneyデータセットやZINCデータセットなどがあります。どんな問題やモデル構築が考えられるでしょうか。"
   ]
  }
 ],
 "metadata": {
  "kernelspec": {
   "display_name": "Python 3.9.7 64-bit ('dev_env')",
   "language": "python",
   "name": "python3"
  },
  "language_info": {
   "codemirror_mode": {
    "name": "ipython",
    "version": 3
   },
   "file_extension": ".py",
   "mimetype": "text/x-python",
   "name": "python",
   "nbconvert_exporter": "python",
   "pygments_lexer": "ipython3",
   "version": "3.9.7"
  },
  "orig_nbformat": 4,
  "vscode": {
   "interpreter": {
    "hash": "1224aa78933d76f3b87bf99e45c31cce45160fda9d38f1d681cad51c427d002b"
   }
  }
 },
 "nbformat": 4,
 "nbformat_minor": 2
}
