{
 "cells": [
  {
   "cell_type": "markdown",
   "metadata": {},
   "source": [
    "# 化学・物理分野と機械学習"
   ]
  },
  {
   "cell_type": "markdown",
   "metadata": {},
   "source": [
    "化学の分野でも機械学習を使うことはどんどん盛んになっています。ケモインフォマティクスやマテリアルインフォマティクスという言葉を聞いた人もいるでしょう。分子や物質に対して、先程のボストンデータセットのように、性質を決めそうな因子をまとめたデータを作る→そのデータを元に性能を予測して、望ましい分子や物質を探そうといったことが行われています。"
   ]
  },
  {
   "cell_type": "markdown",
   "metadata": {},
   "source": [
    "私は物理系が専門なので、化学側はあまり詳しくないのですが、ケモインフォマティクス分野での代表的なデータセットが[QM9](https://www.nature.com/articles/sdata201422),ケモインフォマティクス用のデータ処理一式のライブラリが[RDKit](https://www.rdkit.org/)のようですね。"
   ]
  },
  {
   "cell_type": "markdown",
   "metadata": {},
   "source": [
    "RDKitを使って分子の情報を機械学習モデルにつかえるデータに変換する方法などは、この資料が非常に参考になりそうです。\n",
    "https://www.kaggle.com/code/vladislavkisin/tutorial-ml-in-chemistry-research-rdkit-mol2vec/notebook"
   ]
  },
  {
   "cell_type": "markdown",
   "metadata": {},
   "source": [
    "データセットや深層学習モデル一式が揃ったライブラリとしては`Deepchem` https://github.com/deepchem/deepchem があります。これを用いると、さまざまなデータセットを取り込んで、SMILESという分子構造の表現形式から、機械学習モデルに使えるデータに変換する一連の作業を手軽にすすめることができます。"
   ]
  },
  {
   "cell_type": "markdown",
   "metadata": {},
   "source": [
    "すべてDeepChemを使うチュートリアルは　https://github.com/deepchem/deepchem/blob/master/examples/tutorials/Introduction_to_Gaussian_Processes.ipynb　\n",
    "にありますが、何をやっているかStep by Stepで見るために少し直接的なことを試してみましょう。"
   ]
  },
  {
   "cell_type": "code",
   "execution_count": 86,
   "metadata": {},
   "outputs": [],
   "source": [
    "import numpy as np\n",
    "np.random.seed(123)\n",
    "import tensorflow as tf\n",
    "tf.random.set_seed(123)\n",
    "import deepchem as dc\n",
    "\n",
    "\n"
   ]
  },
  {
   "cell_type": "code",
   "execution_count": 87,
   "metadata": {},
   "outputs": [],
   "source": [
    "\n",
    "from sklearn.gaussian_process import GaussianProcessRegressor\n",
    "from sklearn.gaussian_process.kernels import RBF, WhiteKernel\n",
    "\n",
    "import numpy as np\n",
    "import matplotlib.pyplot as plt"
   ]
  },
  {
   "cell_type": "markdown",
   "metadata": {},
   "source": [
    "BACEデータセットというのはβ-セクレターゼ1という酵素の阻害活性を持つ分子のデータセットで、1513個の分子の情報が含まれます。"
   ]
  },
  {
   "cell_type": "markdown",
   "metadata": {},
   "source": [
    "分子の特徴をExtended Connectivity Fingerprint(ECFP)と呼ばれる方法で記述します。"
   ]
  },
  {
   "cell_type": "code",
   "execution_count": 88,
   "metadata": {},
   "outputs": [],
   "source": [
    "tasks, datasets, transformers = dc.molnet.load_bace_regression(featurizer='ecfp', splitter='random')\n",
    "train_dataset, valid_dataset, test_dataset = datasets"
   ]
  },
  {
   "cell_type": "markdown",
   "metadata": {},
   "source": [
    "データとして持っているのは薬理活性です"
   ]
  },
  {
   "cell_type": "code",
   "execution_count": 89,
   "metadata": {},
   "outputs": [
    {
     "data": {
      "text/plain": [
       "['pIC50']"
      ]
     },
     "execution_count": 89,
     "metadata": {},
     "output_type": "execute_result"
    }
   ],
   "source": [
    "tasks"
   ]
  },
  {
   "cell_type": "markdown",
   "metadata": {},
   "source": [
    "処理して出てくるdatasetには学習データ、検証データ、テストデータのブロックがあります"
   ]
  },
  {
   "cell_type": "code",
   "execution_count": 90,
   "metadata": {},
   "outputs": [
    {
     "data": {
      "text/plain": [
       "<DiskDataset X.shape: (1210, 1024), y.shape: (1210, 1), w.shape: (1210, 1), task_names: ['pIC50']>"
      ]
     },
     "execution_count": 90,
     "metadata": {},
     "output_type": "execute_result"
    }
   ],
   "source": [
    "train_dataset"
   ]
  },
  {
   "cell_type": "code",
   "execution_count": 91,
   "metadata": {},
   "outputs": [
    {
     "data": {
      "text/plain": [
       "<DiskDataset X.shape: (151, 1024), y.shape: (151, 1), w.shape: (151, 1), ids: ['O(C(=O)C1[NH2+]CC2(C1)c1c(NC2=O)cccc1)C1CCN(CC1)C(=O)C'\n",
       " 'Clc1cc2nc(n(c2cc1)C(CC(=O)NC(C(=O)[O-])COC(C)(C)C)CC)N'\n",
       " 's1cc(cc1C(=O)CC)[C@]1(N=C(N)N(C)C1=O)c1cc(ccc1)-c1cccnc1F' ...\n",
       " 'Fc1ccc(cc1OCCCF)[C@]1(N=C(N)N(C)C1=O)c1ccc(OC(F)F)cc1'\n",
       " 'Fc1cc(ccc1F)CC(NC(=O)C)C(O)C[NH2+]C1CC2(Oc3ncc(cc13)CC(C)(C)C)CCC2'\n",
       " 'O=C1N(C)C(=NC(C1)(C)C1CC1c1cc(ccc1)-c1cc(ccc1)CO)N'], task_names: ['pIC50']>"
      ]
     },
     "execution_count": 91,
     "metadata": {},
     "output_type": "execute_result"
    }
   ],
   "source": [
    "valid_dataset"
   ]
  },
  {
   "cell_type": "code",
   "execution_count": 92,
   "metadata": {},
   "outputs": [
    {
     "data": {
      "text/plain": [
       "<DiskDataset X.shape: (152, 1024), y.shape: (152, 1), w.shape: (152, 1), ids: ['O1CC(NC(=O)c2cc(cc(c2)C(=O)N[C@@H](C\\\\C=C\\\\C1)c1ccccc1)C)C(O)C[NH2+]Cc1cc(ccc1)C(C)C'\n",
       " 'S(=O)(=O)(N(C)c1cc(cc(c1)C(OCC([NH2+]C)(Cc1ccccc1)CO)=O)C(=O)NC(C)c1ccc(F)cc1)C'\n",
       " 's1cc(cc1C1(N=C(N)N(C)C(=O)C1)C)-c1cc(ccc1)C#N' ...\n",
       " 'S(=O)(=O)(N(Cc1ccccc1)C)c1cc(ccc1)C(=O)NC(Cc1ccccc1)C(O)C[NH2+]C(C(=O)NC1CCCCC1)C'\n",
       " 'S1(=O)(=O)CC(Cc2cc(CC)c(O)cc2)C(O)C([NH2+]Cc2cc(ccc2)C(C)C)C1'\n",
       " 'Clc1cc2nc(n(c2cc1)[C@H](CC(=O)NCC1CCCCC1)CC)N'], task_names: ['pIC50']>"
      ]
     },
     "execution_count": 92,
     "metadata": {},
     "output_type": "execute_result"
    }
   ],
   "source": [
    "test_dataset"
   ]
  },
  {
   "cell_type": "markdown",
   "metadata": {},
   "source": [
    "それぞれのXには1024次元のベクトルで記述子が収められており、ｙにはそれぞれの分子の薬理活性が入っています"
   ]
  },
  {
   "cell_type": "markdown",
   "metadata": {},
   "source": [
    "データを読み込む段階で、正規化がされておりもともとの値に戻すためには、transformersと指定されている3番目のデータを使います"
   ]
  },
  {
   "cell_type": "code",
   "execution_count": 93,
   "metadata": {},
   "outputs": [
    {
     "data": {
      "text/plain": [
       "array([[6.0268722],\n",
       "       [7.9208188],\n",
       "       [5.5528421],\n",
       "       ...,\n",
       "       [4.4685211],\n",
       "       [5.8996296],\n",
       "       [6.7958798]])"
      ]
     },
     "execution_count": 93,
     "metadata": {},
     "output_type": "execute_result"
    }
   ],
   "source": [
    "transformers[0].untransform(train_dataset.y)"
   ]
  },
  {
   "cell_type": "code",
   "execution_count": 94,
   "metadata": {},
   "outputs": [
    {
     "data": {
      "text/plain": [
       "(0.9778751773788851, -24.89723785522296)"
      ]
     },
     "execution_count": 94,
     "metadata": {},
     "output_type": "execute_result"
    }
   ],
   "source": [
    "\n",
    "from sklearn.linear_model import LinearRegression\n",
    "model = LinearRegression()\n",
    "\n",
    "# Fit trained model\n",
    "model.fit(train_dataset.X,train_dataset.y)\n",
    "train_score=model.score(train_dataset.X,train_dataset.y)\n",
    "test_score=model.score(test_dataset.X,test_dataset.y)\n",
    "\n",
    "train_score, test_score\n"
   ]
  },
  {
   "cell_type": "markdown",
   "metadata": {},
   "source": [
    "線形モデルだと全然むりですね…"
   ]
  },
  {
   "cell_type": "markdown",
   "metadata": {},
   "source": [
    "ガウス過程回帰を試してみましょう"
   ]
  },
  {
   "cell_type": "code",
   "execution_count": 95,
   "metadata": {},
   "outputs": [
    {
     "data": {
      "text/plain": [
       "GaussianProcessRegressor(alpha=4.989499481123432e-09,\n",
       "                         kernel=0.39**2 * RBF(length_scale=5.38) + WhiteKernel(noise_level=0.00163))"
      ]
     },
     "execution_count": 95,
     "metadata": {},
     "output_type": "execute_result"
    }
   ],
   "source": [
    "output_variance = 0.38974570882583015\n",
    "length_scale = 5.375387643239208\n",
    "noise_level = 0.0016265333497286342\n",
    "kernel = output_variance**2 * RBF(length_scale=length_scale, length_scale_bounds='fixed') + WhiteKernel(noise_level=noise_level, noise_level_bounds='fixed')\n",
    "alpha = 4.989499481123432e-09\n",
    "\n",
    "sklearn_gpr = GaussianProcessRegressor(kernel=kernel, alpha=alpha)\n",
    "sklearn_gpr.fit(train_dataset.X,train_dataset.y)"
   ]
  },
  {
   "cell_type": "code",
   "execution_count": 96,
   "metadata": {},
   "outputs": [
    {
     "data": {
      "text/plain": [
       "0.9885198964788846"
      ]
     },
     "execution_count": 96,
     "metadata": {},
     "output_type": "execute_result"
    }
   ],
   "source": [
    "sklearn_gpr.score(train_dataset.X,train_dataset.y)"
   ]
  },
  {
   "cell_type": "code",
   "execution_count": 97,
   "metadata": {},
   "outputs": [
    {
     "data": {
      "text/plain": [
       "0.7366611436254847"
      ]
     },
     "execution_count": 97,
     "metadata": {},
     "output_type": "execute_result"
    }
   ],
   "source": [
    "sklearn_gpr.score(test_dataset.X,test_dataset.y)"
   ]
  },
  {
   "cell_type": "code",
   "execution_count": 98,
   "metadata": {},
   "outputs": [
    {
     "data": {
      "text/plain": [
       "<matplotlib.collections.PathCollection at 0x16a3c4280>"
      ]
     },
     "execution_count": 98,
     "metadata": {},
     "output_type": "execute_result"
    },
    {
     "data": {
      "image/png": "[encoded data removed]",
      "text/plain": [
       "<Figure size 432x288 with 1 Axes>"
      ]
     },
     "metadata": {
      "needs_background": "light"
     },
     "output_type": "display_data"
    }
   ],
   "source": [
    "y_pred=sklearn_gpr.predict(test_dataset.X)\n",
    "\n",
    "y_meas_test = transformers[0].untransform(test_dataset.y)\n",
    "y_pred_test=transformers[0].untransform(y_pred)\n",
    "\n",
    "plt.axes().set_aspect('equal')\n",
    "plt.scatter(y_meas_test,y_pred_test,c='blue')"
   ]
  },
  {
   "cell_type": "markdown",
   "metadata": {},
   "source": [
    "他のschikit-learnのモデルではどんな結果になるでしょうか？\n",
    "https://sites.google.com/g.chuo-u.ac.jp/spec-group/ml-challenges　\n",
    "などを参考に試してみましょう。"
   ]
  }
 ],
 "metadata": {
  "kernelspec": {
   "display_name": "venv3.8",
   "language": "python",
   "name": "venv3.8"
  },
  "language_info": {
   "codemirror_mode": {
    "name": "ipython",
    "version": 3
   },
   "file_extension": ".py",
   "mimetype": "text/x-python",
   "name": "python",
   "nbconvert_exporter": "python",
   "pygments_lexer": "ipython3",
   "version": "3.8.0"
  },
  "orig_nbformat": 4,
  "vscode": {
   "interpreter": {
    "hash": "997f2ba4a1e1eede1fbbc445d4f7dff8b754747b4b23bcbe831949535561032e"
   }
  }
 },
 "nbformat": 4,
 "nbformat_minor": 2
}
