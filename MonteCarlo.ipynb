{
 "cells": [
  {
   "cell_type": "markdown",
   "metadata": {},
   "source": [
    "# 簡単なモンテカルロ・シミュレーション\n",
    "多数の粒子の相互作用によって生じている現象を確率の考え方を使って記述するというのが統計力学です。統計力学の問題が解析的に解けない場合には数値シミュレーションをする必要がありますが、モンテカルロ法はその代表例の一つです。古典系にも量子系（量子系の場合は鈴木トロッター分解などの手続きが必要）にも扱えますが、今回は古典系、その代表例のイジング模型でのモンテカルロ・シミュレーションを扱ってみたいと思います。\n",
    "\n",
    "## 統計力学のおさらい\n",
    "モンテカルロ法で使う統計力学の考え方を、ざっとおさらいしておきましょう。\n"
   ]
  }
 ],
 "metadata": {
  "language_info": {
   "codemirror_mode": {
    "name": "ipython",
    "version": 3
   },
   "file_extension": ".py",
   "mimetype": "text/x-python",
   "name": "python",
   "nbconvert_exporter": "python",
   "pygments_lexer": "ipython3",
   "version": 3
  },
  "orig_nbformat": 2
 },
 "nbformat": 4,
 "nbformat_minor": 2
}